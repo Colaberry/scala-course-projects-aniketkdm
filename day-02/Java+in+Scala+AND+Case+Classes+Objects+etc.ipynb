{
 "cells": [
  {
   "cell_type": "code",
   "execution_count": 2,
   "metadata": {
    "collapsed": false
   },
   "outputs": [
    {
     "data": {
      "text/plain": [
       "\u001b[32mimport \u001b[36mjava.util.{Date, Locale}\u001b[0m\n",
       "\u001b[32mimport \u001b[36mjava.text.DateFormat._\u001b[0m"
      ]
     },
     "metadata": {},
     "output_type": "display_data"
    }
   ],
   "source": [
    "//import specific packages\n",
    "import java.util.{Date, Locale}\n",
    "\n",
    "//import everything from text packages\n",
    "import java.text.DateFormat._"
   ]
  },
  {
   "cell_type": "code",
   "execution_count": 3,
   "metadata": {
    "collapsed": false
   },
   "outputs": [
    {
     "name": "stdout",
     "output_type": "stream",
     "text": [
      "14 February 2017\n"
     ]
    },
    {
     "data": {
      "text/plain": []
     },
     "metadata": {},
     "output_type": "display_data"
    }
   ],
   "source": [
    "println(getDateInstance(LONG, Locale.UK) format new Date)"
   ]
  },
  {
   "cell_type": "code",
   "execution_count": 4,
   "metadata": {
    "collapsed": false
   },
   "outputs": [
    {
     "name": "stdout",
     "output_type": "stream",
     "text": [
      "February 14, 2017"
     ]
    },
    {
     "data": {
      "text/plain": []
     },
     "metadata": {},
     "output_type": "display_data"
    },
    {
     "name": "stdout",
     "output_type": "stream",
     "text": [
      "\n"
     ]
    }
   ],
   "source": [
    "println(getDateInstance(LONG, Locale.US) format new Date)"
   ]
  },
  {
   "cell_type": "code",
   "execution_count": 5,
   "metadata": {
    "collapsed": false
   },
   "outputs": [
    {
     "name": "stdout",
     "output_type": "stream",
     "text": [
      "14. Februar 2017\n"
     ]
    },
    {
     "data": {
      "text/plain": []
     },
     "metadata": {},
     "output_type": "display_data"
    }
   ],
   "source": [
    "println(getDateInstance(LONG, Locale.GERMANY) format new Date)"
   ]
  },
  {
   "cell_type": "markdown",
   "metadata": {},
   "source": [
    "## Using Java Syntax\n",
    "### This is same as the above line but only with the Java style syntax"
   ]
  },
  {
   "cell_type": "code",
   "execution_count": 7,
   "metadata": {
    "collapsed": false
   },
   "outputs": [
    {
     "name": "stdout",
     "output_type": "stream",
     "text": [
      "14. Februar 2017\n"
     ]
    },
    {
     "data": {
      "text/plain": []
     },
     "metadata": {},
     "output_type": "display_data"
    }
   ],
   "source": [
    "println(getDateInstance(LONG, Locale.GERMANY) format(new Date()))"
   ]
  },
  {
   "cell_type": "markdown",
   "metadata": {},
   "source": [
    "# Classes"
   ]
  },
  {
   "cell_type": "code",
   "execution_count": 7,
   "metadata": {
    "collapsed": false
   },
   "outputs": [
    {
     "ename": "",
     "evalue": "",
     "output_type": "error",
     "traceback": [
      "\u001b[31mMain.scala:24: overloaded method name needs result type",
      "  def name = name",
      "             ^\u001b[0m",
      "\u001b[31mMain.scala:25: overloaded method age needs result type",
      "  def age = age",
      "            ^\u001b[0m"
     ]
    }
   ],
   "source": [
    "class Person(name: String, age: Int){\n",
    "  def name = name\n",
    "  def age = age\n",
    "}"
   ]
  },
  {
   "cell_type": "code",
   "execution_count": 7,
   "metadata": {
    "collapsed": false
   },
   "outputs": [
    {
     "ename": "",
     "evalue": "",
     "output_type": "error",
     "traceback": [
      "\u001b[31mMain.scala:24: overloaded method name needs result type",
      "  def name() = name",
      "               ^\u001b[0m",
      "\u001b[31mMain.scala:25: overloaded method age needs result type",
      "  def age() = age",
      "              ^\u001b[0m"
     ]
    }
   ],
   "source": [
    "class Person(name: String, age: Int){\n",
    "  def name() = name\n",
    "  def age() = age\n",
    "}"
   ]
  },
  {
   "cell_type": "code",
   "execution_count": 7,
   "metadata": {
    "collapsed": false
   },
   "outputs": [
    {
     "ename": "",
     "evalue": "",
     "output_type": "error",
     "traceback": [
      "\u001b[31mMain.scala:24: ambiguous reference to overloaded definition,",
      "both method name in class Person of type => String",
      "and  value name in class Person of type String",
      "match expected type String",
      "  def name: String = name",
      "                     ^\u001b[0m",
      "\u001b[31mMain.scala:25: ambiguous reference to overloaded definition,",
      "both method age in class Person of type => Int",
      "and  value age in class Person of type Int",
      "match expected type Int",
      "  def age: Int = age",
      "                 ^\u001b[0m"
     ]
    }
   ],
   "source": [
    "class Person(name: String, age: Int){\n",
    "  def name: String = name\n",
    "  def age: Int = age\n",
    "}"
   ]
  },
  {
   "cell_type": "code",
   "execution_count": 12,
   "metadata": {
    "collapsed": false
   },
   "outputs": [
    {
     "data": {
      "text/plain": [
       "defined \u001b[32mclass \u001b[36mPerson\u001b[0m"
      ]
     },
     "metadata": {},
     "output_type": "display_data"
    }
   ],
   "source": [
    "class Person(name: String, age: Int){\n",
    "  def name(): String = name\n",
    "  def age(): Int = age\n",
    "}"
   ]
  },
  {
   "cell_type": "markdown",
   "metadata": {},
   "source": [
    "# def - method v/s val - function"
   ]
  },
  {
   "cell_type": "code",
   "execution_count": 12,
   "metadata": {
    "collapsed": false
   },
   "outputs": [
    {
     "ename": "",
     "evalue": "",
     "output_type": "error",
     "traceback": [
      "\u001b[31mMain.scala:24: not found: value _name",
      "  val _name(): String = name",
      "      ^\u001b[0m"
     ]
    }
   ],
   "source": [
    "class Person(name: String, age: Int){\n",
    "  val _name(): String = name\n",
    "}"
   ]
  },
  {
   "cell_type": "code",
   "execution_count": 11,
   "metadata": {
    "collapsed": false
   },
   "outputs": [
    {
     "data": {
      "text/plain": [
       "defined \u001b[32mclass \u001b[36mPerson\u001b[0m"
      ]
     },
     "metadata": {},
     "output_type": "display_data"
    }
   ],
   "source": [
    "class Person(name: String, age: Int){\n",
    "  val _name: String = name\n",
    "}"
   ]
  },
  {
   "cell_type": "code",
   "execution_count": 10,
   "metadata": {
    "collapsed": false
   },
   "outputs": [
    {
     "data": {
      "text/plain": [
       "defined \u001b[32mclass \u001b[36mPerson\u001b[0m"
      ]
     },
     "metadata": {},
     "output_type": "display_data"
    }
   ],
   "source": [
    "class Person(name: String, age: Int){\n",
    "  val this.name: String = name\n",
    "}"
   ]
  },
  {
   "cell_type": "markdown",
   "metadata": {},
   "source": [
    "# Trying variable and method with same names\n",
    "## DOESN'T WORK - Member variables need to have unique name"
   ]
  },
  {
   "cell_type": "code",
   "execution_count": 12,
   "metadata": {
    "collapsed": false
   },
   "outputs": [
    {
     "ename": "",
     "evalue": "",
     "output_type": "error",
     "traceback": [
      "\u001b[31mMain.scala:25: value _name is defined twice",
      "  conflicting symbols both originated in file 'Main.scala'",
      "  def _name() = name",
      "      ^\u001b[0m"
     ]
    }
   ],
   "source": [
    "class PerTry(name: String, age: Int){\n",
    "  val _name = name\n",
    "  def _name() = name\n",
    "}"
   ]
  },
  {
   "cell_type": "code",
   "execution_count": 18,
   "metadata": {
    "collapsed": false
   },
   "outputs": [
    {
     "name": "stdout",
     "output_type": "stream",
     "text": [
      "A\n",
      "cmd17$$user$PerTry@4ed437e0\n"
     ]
    },
    {
     "data": {
      "text/plain": [
       "defined \u001b[32mclass \u001b[36mPerTry\u001b[0m\n",
       "\u001b[36mp\u001b[0m: \u001b[32m$user\u001b[0m.\u001b[32mPerTry\u001b[0m = cmd17$$user$PerTry@4ed437e0"
      ]
     },
     "metadata": {},
     "output_type": "display_data"
    }
   ],
   "source": [
    "class PerTry(val name: String, val age: Int)\n",
    "val p = new PerTry(\"A\", 15)\n",
    "println(p.name)\n",
    "println(p) // note that only printing p doesn't print the member variable values"
   ]
  },
  {
   "cell_type": "markdown",
   "metadata": {},
   "source": [
    "# Case classes define a object by default with the arguments that are passed to it as member variables "
   ]
  },
  {
   "cell_type": "code",
   "execution_count": 14,
   "metadata": {
    "collapsed": false
   },
   "outputs": [
    {
     "data": {
      "text/plain": [
       "defined \u001b[32mclass \u001b[36mPerson\u001b[0m\n",
       "\u001b[36mp\u001b[0m: \u001b[32m$user\u001b[0m.\u001b[32mPerson\u001b[0m = \u001b[33mPerson\u001b[0m(\u001b[32m\"A\"\u001b[0m, \u001b[32m25\u001b[0m)\n",
       "\u001b[36mres13_2\u001b[0m: \u001b[32mString\u001b[0m = \u001b[32m\"A\"\u001b[0m"
      ]
     },
     "metadata": {},
     "output_type": "display_data"
    }
   ],
   "source": [
    "case class Person(name: String, age: Int)\n",
    "val p = new Person(\"A\",25)\n",
    "p.name"
   ]
  },
  {
   "cell_type": "markdown",
   "metadata": {},
   "source": [
    "## case class overrides the toString method to print the object with it's values"
   ]
  },
  {
   "cell_type": "code",
   "execution_count": 15,
   "metadata": {
    "collapsed": false
   },
   "outputs": [
    {
     "name": "stdout",
     "output_type": "stream",
     "text": [
      "Person(A,25)\n"
     ]
    },
    {
     "data": {
      "text/plain": []
     },
     "metadata": {},
     "output_type": "display_data"
    }
   ],
   "source": [
    "println(p)"
   ]
  },
  {
   "cell_type": "markdown",
   "metadata": {},
   "source": [
    "## new is NOT required, uses Person.Apply() method instead"
   ]
  },
  {
   "cell_type": "code",
   "execution_count": 19,
   "metadata": {
    "collapsed": false
   },
   "outputs": [
    {
     "data": {
      "text/plain": [
       "\u001b[36mp\u001b[0m: \u001b[32mPerson\u001b[0m = \u001b[33mPerson\u001b[0m(\u001b[32m\"B\"\u001b[0m, \u001b[32m30\u001b[0m)"
      ]
     },
     "metadata": {},
     "output_type": "display_data"
    }
   ],
   "source": [
    "val p = Person(\"B\", 30)"
   ]
  },
  {
   "cell_type": "markdown",
   "metadata": {},
   "source": [
    "# Pattern Matching / Decomposition"
   ]
  },
  {
   "cell_type": "code",
   "execution_count": 20,
   "metadata": {
    "collapsed": false
   },
   "outputs": [
    {
     "name": "stdout",
     "output_type": "stream",
     "text": [
      "Square: 3\n",
      "Rectange: 4::5\n"
     ]
    },
    {
     "data": {
      "text/plain": [
       "defined \u001b[32mclass \u001b[36mShape\u001b[0m\n",
       "defined \u001b[32mclass \u001b[36mSquare\u001b[0m\n",
       "defined \u001b[32mclass \u001b[36mRectangle\u001b[0m\n",
       "defined \u001b[32mfunction \u001b[36mprintObj\u001b[0m"
      ]
     },
     "metadata": {},
     "output_type": "display_data"
    }
   ],
   "source": [
    "abstract class Shape\n",
    "case class Square(s: Int) extends Shape\n",
    "case class Rectangle(l: Int, b: Int) extends Shape\n",
    "def printObj(x: Shape) = x match{\n",
    "  case Square(s) => println(\"Square: \"+s)\n",
    "  case Rectangle(x,y) => println(\"Rectange: \"+x+\"::\"+y)\n",
    "}\n",
    "\n",
    "printObj(Square(3))\n",
    "printObj(Rectangle(4,5))"
   ]
  },
  {
   "cell_type": "markdown",
   "metadata": {},
   "source": [
    "## Note how even though both square and rectangle have 2 arguments,\n",
    "## Even then Pattern matching matched the type of the objects that were passed\n",
    "## So even though Square had 2 constructors, 1 with single variable and other with 2 variables then in case class it would still be able to differentiate between two class constructor objects"
   ]
  },
  {
   "cell_type": "code",
   "execution_count": 21,
   "metadata": {
    "collapsed": false
   },
   "outputs": [
    {
     "name": "stdout",
     "output_type": "stream",
     "text": [
      "Square: 3;5\n",
      "Rectange: 4::5\n"
     ]
    },
    {
     "data": {
      "text/plain": [
       "defined \u001b[32mclass \u001b[36mShape\u001b[0m\n",
       "defined \u001b[32mclass \u001b[36mSquare\u001b[0m\n",
       "defined \u001b[32mclass \u001b[36mRectangle\u001b[0m\n",
       "defined \u001b[32mfunction \u001b[36mprintObj\u001b[0m"
      ]
     },
     "metadata": {},
     "output_type": "display_data"
    }
   ],
   "source": [
    "abstract class Shape\n",
    "case class Square(s: Int, t: Int) extends Shape\n",
    "case class Rectangle(l: Int, b: Int) extends Shape\n",
    "def printObj(x: Shape) = x match{\n",
    "  case Square(s,t) => println(\"Square: \"+s+\";\"+t)\n",
    "  case Rectangle(x,y) => println(\"Rectange: \"+x+\"::\"+y)\n",
    "}\n",
    "\n",
    "printObj(Square(3,5))\n",
    "printObj(Rectangle(4,5))"
   ]
  },
  {
   "cell_type": "code",
   "execution_count": null,
   "metadata": {
    "collapsed": true
   },
   "outputs": [],
   "source": []
  }
 ],
 "metadata": {
  "kernelspec": {
   "display_name": "Scala 2.11",
   "language": "scala211",
   "name": "scala211"
  },
  "language_info": {
   "codemirror_mode": "text/x-scala",
   "file_extension": ".scala",
   "mimetype": "text/x-scala",
   "name": "scala211",
   "pygments_lexer": "scala",
   "version": "2.11.7"
  }
 },
 "nbformat": 4,
 "nbformat_minor": 1
}

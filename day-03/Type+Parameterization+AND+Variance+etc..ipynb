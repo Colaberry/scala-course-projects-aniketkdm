{
 "cells": [
  {
   "cell_type": "code",
   "execution_count": 1,
   "metadata": {
    "collapsed": false
   },
   "outputs": [
    {
     "data": {
      "text/plain": [
       "defined \u001b[32mclass \u001b[36mTypeClass\u001b[0m"
      ]
     },
     "metadata": {},
     "output_type": "display_data"
    }
   ],
   "source": [
    "class TypeClass[T]"
   ]
  },
  {
   "cell_type": "code",
   "execution_count": 2,
   "metadata": {
    "collapsed": false
   },
   "outputs": [
    {
     "data": {
      "text/plain": [
       "defined \u001b[32mclass \u001b[36mParentClass\u001b[0m\n",
       "defined \u001b[32mclass \u001b[36mChildClass\u001b[0m\n",
       "\u001b[36mp\u001b[0m: \u001b[32mTypeClass\u001b[0m[\u001b[32m$user\u001b[0m.\u001b[32mParentClass\u001b[0m] = cmd0$$user$TypeClass@f4da8a0\n",
       "\u001b[36mc\u001b[0m: \u001b[32mTypeClass\u001b[0m[\u001b[32m$user\u001b[0m.\u001b[32mChildClass\u001b[0m] = cmd0$$user$TypeClass@674c1676"
      ]
     },
     "metadata": {},
     "output_type": "display_data"
    }
   ],
   "source": [
    "class ParentClass\n",
    "class ChildClass extends ParentClass\n",
    "\n",
    "val p = new TypeClass[ParentClass]\n",
    "val c = new TypeClass[ChildClass]"
   ]
  },
  {
   "cell_type": "markdown",
   "metadata": {},
   "source": [
    "# ParentClass <- ChildClass (True)\n",
    "# F[ParentClass] <- F[ChildClass] (Not By Default; Requires Co-Variance)"
   ]
  },
  {
   "cell_type": "code",
   "execution_count": 2,
   "metadata": {
    "collapsed": false
   },
   "outputs": [
    {
     "ename": "",
     "evalue": "",
     "output_type": "error",
     "traceback": [
      "\u001b[31mMain.scala:31: type mismatch;",
      " found   : cmd1.INSTANCE.$ref$cmd0.TypeClass[cmd2.this.$ref$cmd1.ChildClass]",
      " required: cmd2.this.$ref$cmd0.TypeClass[cmd2.this.$ref$cmd1.ParentClass]",
      "Note: cmd2.this.$ref$cmd1.ChildClass <: cmd2.this.$ref$cmd1.ParentClass, but class TypeClass is invariant in type T.",
      "You may wish to define T as +T instead. (SLS 4.5)",
      "}.apply",
      "  ^\u001b[0m"
     ]
    }
   ],
   "source": [
    "val pr: TypeClass[ParentClass] = c"
   ]
  },
  {
   "cell_type": "markdown",
   "metadata": {},
   "source": [
    "# Co-Variance"
   ]
  },
  {
   "cell_type": "code",
   "execution_count": 3,
   "metadata": {
    "collapsed": false
   },
   "outputs": [
    {
     "data": {
      "text/plain": [
       "defined \u001b[32mclass \u001b[36mTypeClass\u001b[0m\n",
       "\u001b[36mp\u001b[0m: \u001b[32m$user\u001b[0m.\u001b[32mTypeClass\u001b[0m[\u001b[32mParentClass\u001b[0m] = cmd2$$user$TypeClass@233f2f43\n",
       "\u001b[36mc\u001b[0m: \u001b[32m$user\u001b[0m.\u001b[32mTypeClass\u001b[0m[\u001b[32mChildClass\u001b[0m] = cmd2$$user$TypeClass@3fd12f70\n",
       "\u001b[36mpr\u001b[0m: \u001b[32m$user\u001b[0m.\u001b[32mTypeClass\u001b[0m[\u001b[32mParentClass\u001b[0m] = cmd2$$user$TypeClass@3fd12f70"
      ]
     },
     "metadata": {},
     "output_type": "display_data"
    }
   ],
   "source": [
    "class TypeClass[+T]\n",
    "\n",
    "val p = new TypeClass[ParentClass]\n",
    "val c = new TypeClass[ChildClass]\n",
    "\n",
    "val pr: TypeClass[ParentClass] = c"
   ]
  },
  {
   "cell_type": "markdown",
   "metadata": {},
   "source": [
    "# Contra-Variance"
   ]
  },
  {
   "cell_type": "code",
   "execution_count": 4,
   "metadata": {
    "collapsed": false
   },
   "outputs": [
    {
     "data": {
      "text/plain": [
       "defined \u001b[32mclass \u001b[36mTypeClass\u001b[0m\n",
       "\u001b[36mp\u001b[0m: \u001b[32m$user\u001b[0m.\u001b[32mTypeClass\u001b[0m[\u001b[32mParentClass\u001b[0m] = cmd3$$user$TypeClass@42bf790a\n",
       "\u001b[36mc\u001b[0m: \u001b[32m$user\u001b[0m.\u001b[32mTypeClass\u001b[0m[\u001b[32mChildClass\u001b[0m] = cmd3$$user$TypeClass@61750bae\n",
       "\u001b[36mpr2\u001b[0m: \u001b[32m$user\u001b[0m.\u001b[32mTypeClass\u001b[0m[\u001b[32mChildClass\u001b[0m] = cmd3$$user$TypeClass@42bf790a"
      ]
     },
     "metadata": {},
     "output_type": "display_data"
    }
   ],
   "source": [
    "class TypeClass[-T]\n",
    "\n",
    "val p = new TypeClass[ParentClass]\n",
    "val c = new TypeClass[ChildClass]\n",
    "\n",
    "val pr2: TypeClass[ChildClass] = p"
   ]
  },
  {
   "cell_type": "markdown",
   "metadata": {},
   "source": [
    "# Lower, Upper Bound"
   ]
  },
  {
   "cell_type": "code",
   "execution_count": 7,
   "metadata": {
    "collapsed": false
   },
   "outputs": [
    {
     "data": {
      "text/plain": [
       "defined \u001b[32mclass \u001b[36mSomeotherClass\u001b[0m\n",
       "defined \u001b[32mclass \u001b[36mGreatList\u001b[0m\n",
       "defined \u001b[32mclass \u001b[36mSomeList\u001b[0m\n",
       "defined \u001b[32mclass \u001b[36mOrderedParentClass\u001b[0m\n",
       "\u001b[36mc\u001b[0m: \u001b[32m$user\u001b[0m.\u001b[32mSomeList\u001b[0m[\u001b[32m$user\u001b[0m.\u001b[32mOrderedParentClass\u001b[0m] = cmd6$$user$SomeList@1cb9fd74\n",
       "\u001b[36mq\u001b[0m: \u001b[32m$user\u001b[0m.\u001b[32mOrderedParentClass\u001b[0m = cmd6$$user$OrderedParentClass@7110c4c9\n",
       "\u001b[36mg\u001b[0m: \u001b[32m$user\u001b[0m.\u001b[32mGreatList\u001b[0m[\u001b[32m$user\u001b[0m.\u001b[32mOrderedParentClass\u001b[0m] = cmd6$$user$GreatList@2e90ccb1"
      ]
     },
     "metadata": {},
     "output_type": "display_data"
    }
   ],
   "source": [
    "class SomeotherClass\n",
    "class GreatList[T] {\n",
    "  def add[S>:T](n:S) ={ // LowerBound S must be Super Class of T\n",
    "  \n",
    "  } \n",
    "  def altAdd[S<:T](n:S){ // Uppper Bound S must be a sub Class of T\n",
    "  \n",
    "  }\n",
    "  // Works with Traits too\n",
    "  def altTraitAdd[T<:Ordered[T]](n:T)={ // T must be mixed with Ordered Trait; Because Ordered is a Trait\n",
    "  \n",
    "  }\n",
    "}\n",
    "\n",
    "//class SomeNiceClass extends Ordered[String] {}\n",
    "\n",
    "class SomeList[T<: Ordered[T]]\n",
    "\n",
    "//val c = new SomeList[ParentClass] // ==> Error\n",
    "\n",
    "class OrderedParentClass extends Ordered[OrderedParentClass]{\n",
    "  def compare(that: OrderedParentClass) = {\n",
    "    0\n",
    "  }\n",
    "}\n",
    "\n",
    "val c = new SomeList[OrderedParentClass]\n",
    "val q = new OrderedParentClass()\n",
    "val g = new GreatList[OrderedParentClass]\n",
    "\n",
    "g.altTraitAdd(q)"
   ]
  },
  {
   "cell_type": "code",
   "execution_count": null,
   "metadata": {
    "collapsed": true
   },
   "outputs": [],
   "source": []
  }
 ],
 "metadata": {
  "kernelspec": {
   "display_name": "Scala 2.11",
   "language": "scala211",
   "name": "scala211"
  },
  "language_info": {
   "codemirror_mode": "text/x-scala",
   "file_extension": ".scala",
   "mimetype": "text/x-scala",
   "name": "scala211",
   "pygments_lexer": "scala",
   "version": "2.11.7"
  }
 },
 "nbformat": 4,
 "nbformat_minor": 1
}
